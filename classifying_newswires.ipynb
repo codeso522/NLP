{
  "nbformat": 4,
  "nbformat_minor": 0,
  "metadata": {
    "colab": {
      "name": "classifying_newswires.ipynb",
      "provenance": [],
      "collapsed_sections": [],
      "authorship_tag": "ABX9TyMceOzurTwaDiV8c1qnR2JH",
      "include_colab_link": true
    },
    "kernelspec": {
      "name": "python3",
      "display_name": "Python 3"
    }
  },
  "cells": [
    {
      "cell_type": "markdown",
      "metadata": {
        "id": "view-in-github",
        "colab_type": "text"
      },
      "source": [
        "<a href=\"https://colab.research.google.com/github/codeso522/NLP/blob/master/classifying_newswires.ipynb\" target=\"_parent\"><img src=\"https://colab.research.google.com/assets/colab-badge.svg\" alt=\"Open In Colab\"/></a>"
      ]
    },
    {
      "cell_type": "code",
      "metadata": {
        "id": "1VI74DUCSAUe",
        "colab_type": "code",
        "outputId": "2631e75c-3324-40c0-ce7b-284e695aeef2",
        "colab": {
          "base_uri": "https://localhost:8080/",
          "height": 54
        }
      },
      "source": [
        "from keras.datasets import reuters\n",
        "(train_data, train_labels), (test_data, test_labels) = reuters.load_data(\n",
        "num_words=10000)"
      ],
      "execution_count": 0,
      "outputs": [
        {
          "output_type": "stream",
          "text": [
            "Downloading data from https://s3.amazonaws.com/text-datasets/reuters.npz\n",
            "2113536/2110848 [==============================] - 1s 1us/step\n"
          ],
          "name": "stdout"
        }
      ]
    },
    {
      "cell_type": "code",
      "metadata": {
        "id": "Aaf2C1-W44zb",
        "colab_type": "code",
        "outputId": "b6b585f7-8d89-4997-d248-44f8212c85d9",
        "colab": {
          "base_uri": "https://localhost:8080/",
          "height": 35
        }
      },
      "source": [
        "len(train_data)"
      ],
      "execution_count": 0,
      "outputs": [
        {
          "output_type": "execute_result",
          "data": {
            "text/plain": [
              "8982"
            ]
          },
          "metadata": {
            "tags": []
          },
          "execution_count": 6
        }
      ]
    },
    {
      "cell_type": "code",
      "metadata": {
        "id": "y5_x0pLP47jb",
        "colab_type": "code",
        "outputId": "9468213a-b345-488b-9dde-dd585d79fb5b",
        "colab": {
          "base_uri": "https://localhost:8080/",
          "height": 35
        }
      },
      "source": [
        "len(test_data)"
      ],
      "execution_count": 0,
      "outputs": [
        {
          "output_type": "execute_result",
          "data": {
            "text/plain": [
              "2246"
            ]
          },
          "metadata": {
            "tags": []
          },
          "execution_count": 7
        }
      ]
    },
    {
      "cell_type": "code",
      "metadata": {
        "id": "BYV1F3KW4sF9",
        "colab_type": "code",
        "colab": {}
      },
      "source": [
        "import numpy as np\n",
        "def vectorize_sequences(sequences, dimension=10000):\n",
        "    results = np.zeros((len(sequences), dimension))\n",
        "    for i, sequence in enumerate(sequences):\n",
        "        results[i, sequence] = 1.\n",
        "    return results\n",
        "x_train = vectorize_sequences(train_data)\n",
        "x_test = vectorize_sequences(test_data)"
      ],
      "execution_count": 0,
      "outputs": []
    },
    {
      "cell_type": "code",
      "metadata": {
        "id": "OT0RLFFB435h",
        "colab_type": "code",
        "colab": {}
      },
      "source": [
        "from keras.utils.np_utils import to_categorical\n",
        "one_hot_train_labels = to_categorical(train_labels)\n",
        "one_hot_test_labels = to_categorical(test_labels)"
      ],
      "execution_count": 0,
      "outputs": []
    },
    {
      "cell_type": "code",
      "metadata": {
        "id": "5pZJuJqp50w3",
        "colab_type": "code",
        "colab": {}
      },
      "source": [
        "from keras import models\n",
        "from keras import layers\n",
        "model = models.Sequential()\n",
        "model.add(layers.Dense(64, activation='relu', input_shape=(10000,)))\n",
        "model.add(layers.Dense(64, activation='relu'))\n",
        "model.add(layers.Dense(46, activation='softmax'))"
      ],
      "execution_count": 0,
      "outputs": []
    },
    {
      "cell_type": "code",
      "metadata": {
        "id": "GMuzTCqYi4cH",
        "colab_type": "code",
        "colab": {}
      },
      "source": [
        "model.compile(optimizer='rmsprop',\n",
        "loss='categorical_crossentropy',\n",
        "metrics=['accuracy'])"
      ],
      "execution_count": 0,
      "outputs": []
    },
    {
      "cell_type": "code",
      "metadata": {
        "id": "KRNn2l1yjlh3",
        "colab_type": "code",
        "colab": {}
      },
      "source": [
        "x_val = x_train[:1000]\n",
        "partial_x_train = x_train[1000:]\n",
        "y_val = one_hot_train_labels[:1000]\n",
        "partial_y_train = one_hot_train_labels[1000:]"
      ],
      "execution_count": 0,
      "outputs": []
    },
    {
      "cell_type": "code",
      "metadata": {
        "id": "I3MUNewnj3qN",
        "colab_type": "code",
        "outputId": "679f05fc-be82-43c2-c23c-2d1d23da6162",
        "colab": {
          "base_uri": "https://localhost:8080/",
          "height": 476
        }
      },
      "source": [
        "history = model.fit(partial_x_train,partial_y_train,epochs=12,batch_size=512,validation_data=(x_val, y_val))"
      ],
      "execution_count": 0,
      "outputs": [
        {
          "output_type": "stream",
          "text": [
            "Train on 7982 samples, validate on 1000 samples\n",
            "Epoch 1/12\n",
            "7982/7982 [==============================] - 1s 121us/step - loss: 0.0942 - accuracy: 0.9604 - val_loss: 1.2108 - val_accuracy: 0.7950\n",
            "Epoch 2/12\n",
            "7982/7982 [==============================] - 1s 120us/step - loss: 0.0955 - accuracy: 0.9592 - val_loss: 1.3200 - val_accuracy: 0.7820\n",
            "Epoch 3/12\n",
            "7982/7982 [==============================] - 1s 119us/step - loss: 0.0948 - accuracy: 0.9590 - val_loss: 1.2273 - val_accuracy: 0.8030\n",
            "Epoch 4/12\n",
            "7982/7982 [==============================] - 1s 119us/step - loss: 0.0933 - accuracy: 0.9597 - val_loss: 1.1916 - val_accuracy: 0.8010\n",
            "Epoch 5/12\n",
            "7982/7982 [==============================] - 1s 118us/step - loss: 0.0910 - accuracy: 0.9594 - val_loss: 1.2979 - val_accuracy: 0.7940\n",
            "Epoch 6/12\n",
            "7982/7982 [==============================] - 1s 121us/step - loss: 0.0923 - accuracy: 0.9605 - val_loss: 1.2894 - val_accuracy: 0.7970\n",
            "Epoch 7/12\n",
            "7982/7982 [==============================] - 1s 119us/step - loss: 0.0913 - accuracy: 0.9600 - val_loss: 1.2349 - val_accuracy: 0.7980\n",
            "Epoch 8/12\n",
            "7982/7982 [==============================] - 1s 118us/step - loss: 0.0891 - accuracy: 0.9583 - val_loss: 1.3087 - val_accuracy: 0.7950\n",
            "Epoch 9/12\n",
            "7982/7982 [==============================] - 1s 118us/step - loss: 0.0914 - accuracy: 0.9577 - val_loss: 1.2554 - val_accuracy: 0.7970\n",
            "Epoch 10/12\n",
            "7982/7982 [==============================] - 1s 119us/step - loss: 0.0881 - accuracy: 0.9605 - val_loss: 1.3076 - val_accuracy: 0.7980\n",
            "Epoch 11/12\n",
            "7982/7982 [==============================] - 1s 119us/step - loss: 0.0886 - accuracy: 0.9583 - val_loss: 1.3125 - val_accuracy: 0.8070\n",
            "Epoch 12/12\n",
            "7982/7982 [==============================] - 1s 117us/step - loss: 0.0866 - accuracy: 0.9613 - val_loss: 1.3853 - val_accuracy: 0.7840\n"
          ],
          "name": "stdout"
        }
      ]
    },
    {
      "cell_type": "code",
      "metadata": {
        "id": "1-sm76skq-F3",
        "colab_type": "code",
        "outputId": "3ab7f877-1dc6-46a7-feb4-70b3ea92bcac",
        "colab": {
          "base_uri": "https://localhost:8080/",
          "height": 35
        }
      },
      "source": [
        "history_dict = history.history\n",
        "history_dict.keys()"
      ],
      "execution_count": 0,
      "outputs": [
        {
          "output_type": "execute_result",
          "data": {
            "text/plain": [
              "dict_keys(['val_loss', 'val_accuracy', 'loss', 'accuracy'])"
            ]
          },
          "metadata": {
            "tags": []
          },
          "execution_count": 28
        }
      ]
    },
    {
      "cell_type": "code",
      "metadata": {
        "id": "kRjRKGlQkO8u",
        "colab_type": "code",
        "outputId": "2177dbff-6f43-4f29-db97-1a3fd2f6c16c",
        "colab": {
          "base_uri": "https://localhost:8080/",
          "height": 295
        }
      },
      "source": [
        "import matplotlib.pyplot as plt\n",
        "loss = history.history['loss']\n",
        "val_loss = history.history['val_loss']\n",
        "epochs = range(1, len(loss) + 1)\n",
        "plt.plot(epochs, loss, 'bo', label='Training loss')\n",
        "plt.plot(epochs, val_loss, 'b', label='Validation loss')\n",
        "plt.title('Training and validation loss')\n",
        "plt.xlabel('Epochs')\n",
        "plt.ylabel('Loss')\n",
        "plt.legend()\n",
        "plt.show()"
      ],
      "execution_count": 0,
      "outputs": [
        {
          "output_type": "display_data",
          "data": {
            "image/png": "[encoded data removed]",
            "text/plain": [
              "<Figure size 432x288 with 1 Axes>"
            ]
          },
          "metadata": {
            "tags": [],
            "needs_background": "light"
          }
        }
      ]
    },
    {
      "cell_type": "code",
      "metadata": {
        "id": "1jeoIxy0qtxg",
        "colab_type": "code",
        "outputId": "64107fde-a33b-4ad4-a594-0eb1b07dfaf3",
        "colab": {
          "base_uri": "https://localhost:8080/",
          "height": 295
        }
      },
      "source": [
        "plt.clf()\n",
        "acc = history.history['accuracy']\n",
        "val_acc = history.history['val_accuracy']\n",
        "plt.plot(epochs, acc, 'bo', label='Training acc')\n",
        "plt.plot(epochs, val_acc, 'b', label='Validation acc')\n",
        "plt.title('Training and validation accuracy')\n",
        "plt.xlabel('Epochs')\n",
        "plt.ylabel('Loss')\n",
        "plt.legend()\n",
        "plt.show()"
      ],
      "execution_count": 0,
      "outputs": [
        {
          "output_type": "display_data",
          "data": {
            "image/png": "[encoded data removed]",
            "text/plain": [
              "<Figure size 432x288 with 1 Axes>"
            ]
          },
          "metadata": {
            "tags": [],
            "needs_background": "light"
          }
        }
      ]
    },
    {
      "cell_type": "code",
      "metadata": {
        "id": "xude_vaqqzhJ",
        "colab_type": "code",
        "outputId": "acda28f6-553f-4208-d1f6-0ee6962e8c97",
        "colab": {
          "base_uri": "https://localhost:8080/",
          "height": 54
        }
      },
      "source": [
        "results = model.evaluate(x_test, one_hot_test_labels)\n",
        "results"
      ],
      "execution_count": 0,
      "outputs": [
        {
          "output_type": "stream",
          "text": [
            "2246/2246 [==============================] - 0s 86us/step\n"
          ],
          "name": "stdout"
        },
        {
          "output_type": "execute_result",
          "data": {
            "text/plain": [
              "[1.5354949024672606, 0.7689225077629089]"
            ]
          },
          "metadata": {
            "tags": []
          },
          "execution_count": 31
        }
      ]
    },
    {
      "cell_type": "code",
      "metadata": {
        "id": "kvMhNBj0rnNj",
        "colab_type": "code",
        "outputId": "9166fcf9-c919-402a-eeb3-b20c6970243e",
        "colab": {
          "base_uri": "https://localhost:8080/",
          "height": 35
        }
      },
      "source": [
        "predictions = model.predict(x_test)\n",
        "#Each entry in predictions is a vector of length 46:\n",
        "predictions[0].shape\n"
      ],
      "execution_count": 0,
      "outputs": [
        {
          "output_type": "execute_result",
          "data": {
            "text/plain": [
              "(46,)"
            ]
          },
          "metadata": {
            "tags": []
          },
          "execution_count": 33
        }
      ]
    },
    {
      "cell_type": "code",
      "metadata": {
        "id": "C4hMfyaovb2C",
        "colab_type": "code",
        "outputId": "733e3d6c-e80f-4a70-b5b8-675dba7ba8ff",
        "colab": {
          "base_uri": "https://localhost:8080/",
          "height": 35
        }
      },
      "source": [
        "#The coefficients in this vector sum to 1:\n",
        "np.sum(predictions[0])\n"
      ],
      "execution_count": 0,
      "outputs": [
        {
          "output_type": "execute_result",
          "data": {
            "text/plain": [
              "1.0000001"
            ]
          },
          "metadata": {
            "tags": []
          },
          "execution_count": 34
        }
      ]
    },
    {
      "cell_type": "code",
      "metadata": {
        "id": "t9Pwpif_vjQi",
        "colab_type": "code",
        "outputId": "64df3c72-25f6-476a-9b80-e363f658efa2",
        "colab": {
          "base_uri": "https://localhost:8080/",
          "height": 35
        }
      },
      "source": [
        "#The largest entry is the predicted class—the class with the highest probability:\n",
        " np.argmax(predictions[0])"
      ],
      "execution_count": 0,
      "outputs": [
        {
          "output_type": "execute_result",
          "data": {
            "text/plain": [
              "3"
            ]
          },
          "metadata": {
            "tags": []
          },
          "execution_count": 35
        }
      ]
    },
    {
      "cell_type": "markdown",
      "metadata": {
        "id": "18RwySzTxNw7",
        "colab_type": "text"
      },
      "source": [
        "Different way to handle labels and the loss"
      ]
    },
    {
      "cell_type": "code",
      "metadata": {
        "id": "Smy0lnRavpH6",
        "colab_type": "code",
        "colab": {}
      },
      "source": [
        "y_train = np.array(train_labels)\n",
        "y_test = np.array(test_labels)"
      ],
      "execution_count": 0,
      "outputs": []
    },
    {
      "cell_type": "code",
      "metadata": {
        "id": "xat1jHEiw5_g",
        "colab_type": "code",
        "colab": {}
      },
      "source": [
        "#loss func changed\n",
        "model.compile(optimizer='rmsprop',\n",
        "loss='sparse_categorical_crossentropy',\n",
        "metrics=['acc'])"
      ],
      "execution_count": 0,
      "outputs": []
    },
    {
      "cell_type": "code",
      "metadata": {
        "id": "dl2yF06kxDHP",
        "colab_type": "code",
        "colab": {}
      },
      "source": [
        "x_val = x_train[:1000]\n",
        "partial_x_train = x_train[1000:]\n",
        "y_val = y_train[:1000]\n",
        "partial_y_train = y_train[1000:]"
      ],
      "execution_count": 0,
      "outputs": []
    },
    {
      "cell_type": "code",
      "metadata": {
        "id": "VaE9Cy91xEU-",
        "colab_type": "code",
        "outputId": "b058f68e-96a9-482a-9e12-c136d33d0d61",
        "colab": {
          "base_uri": "https://localhost:8080/",
          "height": 476
        }
      },
      "source": [
        "history = model.fit(partial_x_train,partial_y_train,epochs=12,batch_size=512,validation_data=(x_val, y_val))"
      ],
      "execution_count": 0,
      "outputs": [
        {
          "output_type": "stream",
          "text": [
            "Train on 7982 samples, validate on 1000 samples\n",
            "Epoch 1/12\n",
            "7982/7982 [==============================] - 1s 125us/step - loss: 0.1066 - acc: 0.9567 - val_loss: 1.4188 - val_acc: 0.7820\n",
            "Epoch 2/12\n",
            "7982/7982 [==============================] - 1s 117us/step - loss: 0.0820 - acc: 0.9600 - val_loss: 1.3959 - val_acc: 0.7840\n",
            "Epoch 3/12\n",
            "7982/7982 [==============================] - 1s 116us/step - loss: 0.0794 - acc: 0.9589 - val_loss: 1.4088 - val_acc: 0.7890\n",
            "Epoch 4/12\n",
            "7982/7982 [==============================] - 1s 116us/step - loss: 0.0784 - acc: 0.9579 - val_loss: 1.4242 - val_acc: 0.7820\n",
            "Epoch 5/12\n",
            "7982/7982 [==============================] - 1s 116us/step - loss: 0.0791 - acc: 0.9592 - val_loss: 1.4199 - val_acc: 0.7880\n",
            "Epoch 6/12\n",
            "7982/7982 [==============================] - 1s 116us/step - loss: 0.0787 - acc: 0.9577 - val_loss: 1.4238 - val_acc: 0.7900\n",
            "Epoch 7/12\n",
            "7982/7982 [==============================] - 1s 118us/step - loss: 0.0761 - acc: 0.9600 - val_loss: 1.5294 - val_acc: 0.7860\n",
            "Epoch 8/12\n",
            "7982/7982 [==============================] - 1s 117us/step - loss: 0.0786 - acc: 0.9592 - val_loss: 1.4817 - val_acc: 0.7800\n",
            "Epoch 9/12\n",
            "7982/7982 [==============================] - 1s 118us/step - loss: 0.0750 - acc: 0.9597 - val_loss: 1.4368 - val_acc: 0.7890\n",
            "Epoch 10/12\n",
            "7982/7982 [==============================] - 1s 120us/step - loss: 0.0752 - acc: 0.9574 - val_loss: 1.5145 - val_acc: 0.7860\n",
            "Epoch 11/12\n",
            "7982/7982 [==============================] - 1s 117us/step - loss: 0.0760 - acc: 0.9587 - val_loss: 1.5015 - val_acc: 0.7850\n",
            "Epoch 12/12\n",
            "7982/7982 [==============================] - 1s 116us/step - loss: 0.0752 - acc: 0.9582 - val_loss: 1.5045 - val_acc: 0.7860\n"
          ],
          "name": "stdout"
        }
      ]
    },
    {
      "cell_type": "code",
      "metadata": {
        "id": "7OnvsjLfxU03",
        "colab_type": "code",
        "outputId": "aa3ad7f8-fcb4-4cfb-ef2d-fc3cfc81a6a8",
        "colab": {
          "base_uri": "https://localhost:8080/",
          "height": 54
        }
      },
      "source": [
        "results = model.evaluate(x_test,y_test)\n",
        "results"
      ],
      "execution_count": 0,
      "outputs": [
        {
          "output_type": "stream",
          "text": [
            "2246/2246 [==============================] - 0s 85us/step\n"
          ],
          "name": "stdout"
        },
        {
          "output_type": "execute_result",
          "data": {
            "text/plain": [
              "[1.7375989202293878, 0.7666963338851929]"
            ]
          },
          "metadata": {
            "tags": []
          },
          "execution_count": 51
        }
      ]
    },
    {
      "cell_type": "code",
      "metadata": {
        "id": "zHHSuj_Oy5J-",
        "colab_type": "code",
        "colab": {}
      },
      "source": [
        ""
      ],
      "execution_count": 0,
      "outputs": []
    }
  ]
}